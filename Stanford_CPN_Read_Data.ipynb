{
  "nbformat": 4,
  "nbformat_minor": 0,
  "metadata": {
    "colab": {
      "provenance": [],
      "collapsed_sections": [
        "MKKB3BQpYSgm"
      ],
      "include_colab_link": true
    },
    "kernelspec": {
      "name": "python3",
      "display_name": "Python 3"
    },
    "language_info": {
      "name": "python"
    }
  },
  "cells": [
    {
      "cell_type": "markdown",
      "metadata": {
        "id": "view-in-github",
        "colab_type": "text"
      },
      "source": [
        "<a href=\"https://colab.research.google.com/github/abboswell/stanford-cpn/blob/main/Stanford_CPN_Read_Data.ipynb\" target=\"_parent\"><img src=\"https://colab.research.google.com/assets/colab-badge.svg\" alt=\"Open In Colab\"/></a>"
      ]
    },
    {
      "cell_type": "markdown",
      "source": [
        "# Explore Courses API\n",
        "This notebook reads course data via the ExploreCourses API and yields a Directed Acyclic Graph that is processed in subsequent analysis"
      ],
      "metadata": {
        "id": "MKKB3BQpYSgm"
      }
    },
    {
      "cell_type": "code",
      "execution_count": null,
      "metadata": {
        "id": "kfaKuAC4V2HX"
      },
      "outputs": [],
      "source": [
        "# Import Library\n",
        "from explorecourses import *\n",
        "from explorecourses import filters"
      ]
    },
    {
      "cell_type": "code",
      "source": [
        "# Build Connection\n",
        "connect = CourseConnection()"
      ],
      "metadata": {
        "id": "aG3QRdeYWb9I"
      },
      "execution_count": null,
      "outputs": []
    },
    {
      "cell_type": "code",
      "source": [
        "# Test Connection\n",
        "courses = connect.get_courses_by_query(query='CS 109: Introduction to Probability for Computer Scientists')\n",
        "course = courses[0]\n",
        "vars(course)"
      ],
      "metadata": {
        "id": "eQi97M-vWcAB",
        "colab": {
          "base_uri": "https://localhost:8080/"
        },
        "outputId": "a1e8365b-6d8a-4e2c-9d87-ff15e90766b1"
      },
      "execution_count": null,
      "outputs": [
        {
          "output_type": "execute_result",
          "data": {
            "text/plain": [
              "{'year': '2023-2024',\n",
              " 'subject': 'CS',\n",
              " 'code': '109',\n",
              " 'title': 'Introduction to Probability for Computer Scientists',\n",
              " 'description': 'Topics include: counting and combinatorics, random variables, conditional probability, independence, distributions, expectation, point estimation, and limit theorems. Applications of probability in computer science including machine learning and the use of probability in the analysis of algorithms. Prerequisites: 103, 106B or X, multivariate calculus at the level of MATH 51 or CME 100 or equivalent.',\n",
              " 'gers': ('GER:DB-EngrAppSci', 'WAY-AQR', 'WAY-FR'),\n",
              " 'repeatable': False,\n",
              " 'grading_basis': 'Letter or Credit/No Credit',\n",
              " 'units_min': 3,\n",
              " 'units_max': 5,\n",
              " 'objectives': (<explorecourses.classes.LearningObjective at 0x7b4845e232b0>,\n",
              "  <explorecourses.classes.LearningObjective at 0x7b4845e23250>),\n",
              " 'final_exam': True,\n",
              " 'sections': (<explorecourses.classes.Section at 0x7b4845e22fb0>,\n",
              "  <explorecourses.classes.Section at 0x7b4845e22d70>,\n",
              "  <explorecourses.classes.Section at 0x7b4845e22830>,\n",
              "  <explorecourses.classes.Section at 0x7b4845e22350>,\n",
              "  <explorecourses.classes.Section at 0x7b4845e21e10>,\n",
              "  <explorecourses.classes.Section at 0x7b4845e22ce0>,\n",
              "  <explorecourses.classes.Section at 0x7b4845e232e0>,\n",
              "  <explorecourses.classes.Section at 0x7b4845e21f00>,\n",
              "  <explorecourses.classes.Section at 0x7b4845e22020>,\n",
              "  <explorecourses.classes.Section at 0x7b4845e21b40>,\n",
              "  <explorecourses.classes.Section at 0x7b4845e21ba0>,\n",
              "  <explorecourses.classes.Section at 0x7b4845e23340>,\n",
              "  <explorecourses.classes.Section at 0x7b4845e22c80>,\n",
              "  <explorecourses.classes.Section at 0x7b4845e23610>,\n",
              "  <explorecourses.classes.Section at 0x7b4845e23880>,\n",
              "  <explorecourses.classes.Section at 0x7b4845e23af0>,\n",
              "  <explorecourses.classes.Section at 0x7b4845e23d60>,\n",
              "  <explorecourses.classes.Section at 0x7b4845e23fd0>,\n",
              "  <explorecourses.classes.Section at 0x7b4845c88280>,\n",
              "  <explorecourses.classes.Section at 0x7b4845c884f0>,\n",
              "  <explorecourses.classes.Section at 0x7b4845c88760>,\n",
              "  <explorecourses.classes.Section at 0x7b4845c88a00>,\n",
              "  <explorecourses.classes.Section at 0x7b4845c88b20>,\n",
              "  <explorecourses.classes.Section at 0x7b4845c88c40>,\n",
              "  <explorecourses.classes.Section at 0x7b4845c88d60>,\n",
              "  <explorecourses.classes.Section at 0x7b4845c88e80>,\n",
              "  <explorecourses.classes.Section at 0x7b4845c88fa0>,\n",
              "  <explorecourses.classes.Section at 0x7b4845c890c0>,\n",
              "  <explorecourses.classes.Section at 0x7b4845c891e0>,\n",
              "  <explorecourses.classes.Section at 0x7b4845c89300>,\n",
              "  <explorecourses.classes.Section at 0x7b4845c893f0>,\n",
              "  <explorecourses.classes.Section at 0x7b4845c89660>,\n",
              "  <explorecourses.classes.Section at 0x7b4845c898d0>,\n",
              "  <explorecourses.classes.Section at 0x7b4845c89b70>,\n",
              "  <explorecourses.classes.Section at 0x7b4845c89c90>,\n",
              "  <explorecourses.classes.Section at 0x7b4845c89db0>,\n",
              "  <explorecourses.classes.Section at 0x7b4845c89ed0>,\n",
              "  <explorecourses.classes.Section at 0x7b4845c89ff0>,\n",
              "  <explorecourses.classes.Section at 0x7b4845c8a110>,\n",
              "  <explorecourses.classes.Section at 0x7b4845c8a200>,\n",
              "  <explorecourses.classes.Section at 0x7b4845c8a470>,\n",
              "  <explorecourses.classes.Section at 0x7b4845c8a710>,\n",
              "  <explorecourses.classes.Section at 0x7b4845c8a7a0>,\n",
              "  <explorecourses.classes.Section at 0x7b4845c8ada0>,\n",
              "  <explorecourses.classes.Section at 0x7b4845c8b010>,\n",
              "  <explorecourses.classes.Section at 0x7b4845c8b280>,\n",
              "  <explorecourses.classes.Section at 0x7b4845c8b4f0>,\n",
              "  <explorecourses.classes.Section at 0x7b4845c8b760>,\n",
              "  <explorecourses.classes.Section at 0x7b4845c8b9d0>,\n",
              "  <explorecourses.classes.Section at 0x7b4845c8bc40>,\n",
              "  <explorecourses.classes.Section at 0x7b4845c8beb0>,\n",
              "  <explorecourses.classes.Section at 0x7b4845c90160>,\n",
              "  <explorecourses.classes.Section at 0x7b4845c903d0>,\n",
              "  <explorecourses.classes.Section at 0x7b4845c90640>,\n",
              "  <explorecourses.classes.Section at 0x7b4845c908b0>,\n",
              "  <explorecourses.classes.Section at 0x7b4845c90b20>,\n",
              "  <explorecourses.classes.Section at 0x7b4845c90d90>,\n",
              "  <explorecourses.classes.Section at 0x7b4845c91000>,\n",
              "  <explorecourses.classes.Section at 0x7b4845c91270>,\n",
              "  <explorecourses.classes.Section at 0x7b4845c914e0>,\n",
              "  <explorecourses.classes.Section at 0x7b4845c91750>,\n",
              "  <explorecourses.classes.Section at 0x7b4845c919f0>,\n",
              "  <explorecourses.classes.Section at 0x7b4845c91ae0>,\n",
              "  <explorecourses.classes.Section at 0x7b4845c91d80>,\n",
              "  <explorecourses.classes.Section at 0x7b4845c91ea0>,\n",
              "  <explorecourses.classes.Section at 0x7b4845c91f90>,\n",
              "  <explorecourses.classes.Section at 0x7b4845c921a0>,\n",
              "  <explorecourses.classes.Section at 0x7b4845c92620>,\n",
              "  <explorecourses.classes.Section at 0x7b4845c92860>,\n",
              "  <explorecourses.classes.Section at 0x7b4845c92aa0>,\n",
              "  <explorecourses.classes.Section at 0x7b4845c92ce0>,\n",
              "  <explorecourses.classes.Section at 0x7b4845c92f20>,\n",
              "  <explorecourses.classes.Section at 0x7b4845c93160>,\n",
              "  <explorecourses.classes.Section at 0x7b4845c933a0>,\n",
              "  <explorecourses.classes.Section at 0x7b4845c935e0>,\n",
              "  <explorecourses.classes.Section at 0x7b4845c93850>,\n",
              "  <explorecourses.classes.Section at 0x7b4845c93ac0>,\n",
              "  <explorecourses.classes.Section at 0x7b4845c93d30>,\n",
              "  <explorecourses.classes.Section at 0x7b4845c93fa0>,\n",
              "  <explorecourses.classes.Section at 0x7b4845c94250>,\n",
              "  <explorecourses.classes.Section at 0x7b4845c944c0>,\n",
              "  <explorecourses.classes.Section at 0x7b4845c94730>,\n",
              "  <explorecourses.classes.Section at 0x7b4845c949a0>,\n",
              "  <explorecourses.classes.Section at 0x7b4845c94c10>,\n",
              "  <explorecourses.classes.Section at 0x7b4845c94e80>,\n",
              "  <explorecourses.classes.Section at 0x7b4845c950f0>,\n",
              "  <explorecourses.classes.Section at 0x7b4845c95360>,\n",
              "  <explorecourses.classes.Section at 0x7b4845c955d0>,\n",
              "  <explorecourses.classes.Section at 0x7b4845c95810>,\n",
              "  <explorecourses.classes.Section at 0x7b4845c95a50>,\n",
              "  <explorecourses.classes.Section at 0x7b4845c95c90>,\n",
              "  <explorecourses.classes.Section at 0x7b4845c95ed0>,\n",
              "  <explorecourses.classes.Section at 0x7b4845c96110>,\n",
              "  <explorecourses.classes.Section at 0x7b4845c96350>,\n",
              "  <explorecourses.classes.Section at 0x7b4845c96590>,\n",
              "  <explorecourses.classes.Section at 0x7b4845c967d0>,\n",
              "  <explorecourses.classes.Section at 0x7b4845c96a10>,\n",
              "  <explorecourses.classes.Section at 0x7b4845c96c50>,\n",
              "  <explorecourses.classes.Section at 0x7b4845c96e90>,\n",
              "  <explorecourses.classes.Section at 0x7b4845c970d0>,\n",
              "  <explorecourses.classes.Section at 0x7b4845c97310>,\n",
              "  <explorecourses.classes.Section at 0x7b4845c97550>,\n",
              "  <explorecourses.classes.Section at 0x7b4845c97790>,\n",
              "  <explorecourses.classes.Section at 0x7b4845c97a00>,\n",
              "  <explorecourses.classes.Section at 0x7b4845c97c40>,\n",
              "  <explorecourses.classes.Section at 0x7b4845c97e80>,\n",
              "  <explorecourses.classes.Section at 0x7b4845ca0130>,\n",
              "  <explorecourses.classes.Section at 0x7b4845ca03a0>,\n",
              "  <explorecourses.classes.Section at 0x7b4845ca0610>,\n",
              "  <explorecourses.classes.Section at 0x7b4845ca0880>,\n",
              "  <explorecourses.classes.Section at 0x7b4845ca0af0>,\n",
              "  <explorecourses.classes.Section at 0x7b4845ca0d60>,\n",
              "  <explorecourses.classes.Section at 0x7b4845ca0f70>),\n",
              " 'tags': (<explorecourses.classes.Tag at 0x7b4845ca13c0>,\n",
              "  <explorecourses.classes.Tag at 0x7b4845ca1600>,\n",
              "  <explorecourses.classes.Tag at 0x7b4845ca1660>,\n",
              "  <explorecourses.classes.Tag at 0x7b4845ca16c0>,\n",
              "  <explorecourses.classes.Tag at 0x7b4845ca1720>,\n",
              "  <explorecourses.classes.Tag at 0x7b4845ca1780>,\n",
              "  <explorecourses.classes.Tag at 0x7b4845ca17e0>,\n",
              "  <explorecourses.classes.Tag at 0x7b4845ca1840>,\n",
              "  <explorecourses.classes.Tag at 0x7b4845ca18a0>,\n",
              "  <explorecourses.classes.Tag at 0x7b4845ca1900>,\n",
              "  <explorecourses.classes.Tag at 0x7b4845ca1960>,\n",
              "  <explorecourses.classes.Tag at 0x7b4845ca19c0>,\n",
              "  <explorecourses.classes.Tag at 0x7b4845ca1a20>,\n",
              "  <explorecourses.classes.Tag at 0x7b4845ca1a80>),\n",
              " 'attributes': (<explorecourses.classes.Attribute at 0x7b4845ca1ae0>,\n",
              "  <explorecourses.classes.Attribute at 0x7b4845ca1b40>,\n",
              "  <explorecourses.classes.Attribute at 0x7b4845ca1ba0>,\n",
              "  <explorecourses.classes.Attribute at 0x7b4845ca1c00>),\n",
              " 'course_id': 208528,\n",
              " 'active': True,\n",
              " 'offer_num': '1',\n",
              " 'academic_group': 'ENGR',\n",
              " 'academic_org': 'COMPUTSCI',\n",
              " 'academic_career': 'UG',\n",
              " 'max_units_repeat': 5,\n",
              " 'max_times_repeat': 1}"
            ]
          },
          "metadata": {},
          "execution_count": 7
        }
      ]
    },
    {
      "cell_type": "code",
      "source": [
        "# Import Library\n",
        "import re"
      ],
      "metadata": {
        "id": "634kz-KYWcDF"
      },
      "execution_count": null,
      "outputs": []
    },
    {
      "cell_type": "code",
      "source": [
        "'''\n",
        "fix()\n",
        "-----\n",
        "This helper function takes an input string (i.e., description) and parses it to\n",
        "clean up any abnormalities (i.e., mixed case, un-spaced punctuation) that is present.\n",
        "'''\n",
        "def fix(input_string, subject):\n",
        "    # Start by making everything upper-case and adding prefix if needed\n",
        "    input_string = input_string.upper()\n",
        "    if not (input_string[0]).isalpha():\n",
        "        input_string = subject + input_string\n",
        "\n",
        "    # Use regular expression to split letters followed numbers\n",
        "    match = re.match(r'([a-zA-Z]+)([0-9]+[a-zA-Z]*)', input_string)\n",
        "\n",
        "    if match:\n",
        "        # Join the matched groups with a space\n",
        "        result = ' '.join(match.groups())\n",
        "        return result\n",
        "\n",
        "    else:\n",
        "        # Return the input unchanged if no match is found\n",
        "        return input_string"
      ],
      "metadata": {
        "id": "NsKn6IKlWcF-"
      },
      "execution_count": null,
      "outputs": []
    },
    {
      "cell_type": "code",
      "source": [
        "'''\n",
        "extract_prerequisites()\n",
        "-----------------------\n",
        "This helper function takes a course object and infers prerequisite based on\n",
        "the description text.\n",
        "'''\n",
        "def extract_prerequisites(course):\n",
        "    # Get course description and do some minor cleanup\n",
        "    description = course.description\n",
        "    description = re.sub(r'https?://\\S+', '', description)\n",
        "    description = re.sub(r'EarthSys|Earth Systems', 'EARTHSYS', description)\n",
        "\n",
        "    # Partition course description for prerequisites\n",
        "    prerequisites = re.split('\\. |,|[\\W]or |[\\W]and |/', description.partition('Prerequisite')[2])\n",
        "    courses = []\n",
        "\n",
        "    subject = course.subject\n",
        "    for prerequisite in prerequisites:\n",
        "\n",
        "        # Remove some edge cases\n",
        "        keys = ['minute', 'hour', 'day', 'month', 'year', 'unit', 'Ways', \\\n",
        "                'application', 'enroll', 'register']\n",
        "        if any(item in prerequisite for item in keys):\n",
        "            continue\n",
        "\n",
        "        # Define a regular expression pattern to match course numbers\n",
        "        # Math 51, MATH 51, formerly 188, 103\n",
        "        pattern = r'([A-Z]*[a-z]*\\s*\\d+[A-Z]*)'\n",
        "        matches = re.findall(pattern, prerequisite)\n",
        "\n",
        "        # Clean up depending on case\n",
        "        # matches = [fix(match, course) for match in matches]\n",
        "        for index, match in enumerate(matches):\n",
        "            fixed_match = fix(match, subject)\n",
        "            subject = fixed_match.split(' ')[0]\n",
        "            matches[index] = fixed_match\n",
        "\n",
        "        courses.extend(matches)\n",
        "\n",
        "    # return (courses, description)\n",
        "    return courses"
      ],
      "metadata": {
        "id": "emZ3x-3gWcJE"
      },
      "execution_count": null,
      "outputs": []
    },
    {
      "cell_type": "code",
      "source": [
        "# Test helper function\n",
        "extract_prerequisites(course)"
      ],
      "metadata": {
        "id": "b_00Mz_qWn6s",
        "colab": {
          "base_uri": "https://localhost:8080/"
        },
        "outputId": "0c46e93e-4c28-45ee-e2cf-a07bbe3e6772"
      },
      "execution_count": null,
      "outputs": [
        {
          "output_type": "execute_result",
          "data": {
            "text/plain": [
              "['CS 103', 'CS 106B', 'MATH 51', 'CME 100']"
            ]
          },
          "metadata": {},
          "execution_count": 11
        }
      ]
    },
    {
      "cell_type": "code",
      "source": [
        "# Save Key Information\n",
        "year = \"2022-2023\"\n",
        "nodes = []\n",
        "reference = {}\n",
        "sentinel = 'N/A'\n",
        "keys = ['year', 'subject', 'code', 'title', 'description', 'repeatable', \\\n",
        "        'grading_basis', 'units_min', 'units_max', 'final_exam', \\\n",
        "        'course_id', 'active', 'offer_num', 'academic_group', 'academic_org', \\\n",
        "        'academic_career', 'max_units_repeat', 'max_times_repeat']"
      ],
      "metadata": {
        "id": "XS_8AHVPW2bw"
      },
      "execution_count": null,
      "outputs": []
    },
    {
      "cell_type": "code",
      "source": [
        "for school in connect.get_schools(year):\n",
        "    for dept in school.departments:\n",
        "        courses = connect.get_courses_by_department(dept.code, year=year)\n",
        "\n",
        "        # Create nodes\n",
        "        for course in courses:\n",
        "            # Use dictionary comprehension to store serializable attributes\n",
        "            course_prop = {key: course.__dict__[key] if course.__dict__[key] is not None else sentinel for key in keys}\n",
        "            course_id = f'{course.subject} {course.code}'\n",
        "\n",
        "            # Create node for the course\n",
        "            course_node = {\n",
        "                \"type\": \"node\",\n",
        "                \"label\": \"Course\",\n",
        "                \"id\": course_id,\n",
        "            }\n",
        "            # Add the course properties to the node\n",
        "            course_node.update(course_prop)\n",
        "\n",
        "            # Update list and dictionary\n",
        "            nodes.append(course_node)\n",
        "            reference[course_id] = course"
      ],
      "metadata": {
        "id": "WyDwhf9oW2es"
      },
      "execution_count": null,
      "outputs": []
    },
    {
      "cell_type": "code",
      "source": [
        "relationships = []\n",
        "relationship_id = 0\n",
        "\n",
        "# Create relationships\n",
        "for course_id, course in reference.items():\n",
        "\n",
        "    # Infer prerequisites\n",
        "    # prerequisites, description = extract_prerequisites(course)\n",
        "    prerequisites = extract_prerequisites(course)\n",
        "    for prereq_id in prerequisites:\n",
        "\n",
        "        # for whatever reason, we're having difficulty extracting the prerequisite\n",
        "        # TODO: make this procedure more robust\n",
        "        if prereq_id not in reference:\n",
        "            continue\n",
        "\n",
        "        # otherwise we ``claim'' to have a valid prerequisite\n",
        "        else:\n",
        "            relationship = {\n",
        "                \"source\": prereq_id,\n",
        "                \"target\": course_id\n",
        "            }\n",
        "            relationships.append(relationship)\n",
        "            relationship_id += 1"
      ],
      "metadata": {
        "id": "ziGAw9DsW_nI"
      },
      "execution_count": null,
      "outputs": []
    },
    {
      "cell_type": "code",
      "source": [
        "# Import Library\n",
        "import networkx as nx"
      ],
      "metadata": {
        "id": "gHs4bvARXELz"
      },
      "execution_count": null,
      "outputs": []
    },
    {
      "cell_type": "code",
      "source": [
        "# Initialize a directed graph\n",
        "G = nx.DiGraph()"
      ],
      "metadata": {
        "id": "S198G98FXEOe"
      },
      "execution_count": null,
      "outputs": []
    },
    {
      "cell_type": "code",
      "source": [
        "# Add nodes and edges\n",
        "for node in nodes:\n",
        "    G.add_node(node[\"id\"], **node)\n",
        "\n",
        "for relationship in relationships:\n",
        "    G.add_edge(relationship[\"source\"], relationship[\"target\"])"
      ],
      "metadata": {
        "id": "luxWKH_5XERk"
      },
      "execution_count": null,
      "outputs": []
    },
    {
      "cell_type": "code",
      "source": [
        "# Write graph as .graphml for further processing\n",
        "nx.write_graphml(G, \"graphx.graphml\")"
      ],
      "metadata": {
        "id": "SODIJ7vmXHs2"
      },
      "execution_count": null,
      "outputs": []
    }
  ]
}